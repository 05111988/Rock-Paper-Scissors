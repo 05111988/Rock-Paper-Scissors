{
 "cells": [
  {
   "cell_type": "code",
   "execution_count": 3,
   "id": "8edfe8a9-00e8-4e10-814c-c03ad050cb95",
   "metadata": {},
   "outputs": [
    {
     "name": "stdout",
     "output_type": "stream",
     "text": [
      "4.852588641080779\n"
     ]
    }
   ],
   "source": [
    "import random\n",
    "random_number_0_to_1 = random.random() * 10\n",
    "print(random_number_0_to_1)"
   ]
  },
  {
   "cell_type": "code",
   "execution_count": 9,
   "id": "b89297c4-480a-4a55-9169-f673bdb1de79",
   "metadata": {},
   "outputs": [
    {
     "name": "stdout",
     "output_type": "stream",
     "text": [
      "4.995209550957529\n"
     ]
    }
   ],
   "source": [
    "import random\n",
    "random_float = random.uniform(1,10)\n",
    "print(random_float)"
   ]
  },
  {
   "cell_type": "code",
   "execution_count": 16,
   "id": "36815b0e-0732-4042-8043-47a976a95b9d",
   "metadata": {},
   "outputs": [
    {
     "name": "stdout",
     "output_type": "stream",
     "text": [
      "heads\n"
     ]
    }
   ],
   "source": [
    "import random\n",
    "random_heads_or_tails = random.randint(0,1)\n",
    "if random_heads_or_tails == 0:\n",
    "    print(\"heads\")\n",
    "else:\n",
    "    print(\"tails\")\n",
    "\n"
   ]
  },
  {
   "cell_type": "markdown",
   "id": "8cc059a1-5b58-4bcd-8b79-fb70f85b6bad",
   "metadata": {},
   "source": [
    "python list is alo known as data structure"
   ]
  },
  {
   "cell_type": "code",
   "execution_count": 21,
   "id": "c8d7c845-78a8-4b32-9afb-0f001935d6b5",
   "metadata": {},
   "outputs": [
    {
     "name": "stdout",
     "output_type": "stream",
     "text": [
      "['new york', 'washignton', 'new jersey', 'new mexico', 'Los angeles', 'Las vegas']\n"
     ]
    }
   ],
   "source": [
    "states_of_america = [\"new york\" , \"chicago\" , \"new jersey\" , \"new mexico\" , \"Los angeles\" , \"Las vegas\"]\n",
    "states_of_america[1] = \"washignton\"\n",
    "print(states_of_america)"
   ]
  },
  {
   "cell_type": "code",
   "execution_count": 25,
   "id": "b759285e-217d-4dcc-8e06-02b3b96a97c8",
   "metadata": {},
   "outputs": [
    {
     "name": "stdout",
     "output_type": "stream",
     "text": [
      "Eve\n",
      "Charlie\n"
     ]
    }
   ],
   "source": [
    "import random\n",
    "friends = [\"Alice\", \"Bob\", \"Charlie\", \"David\", \"Eve\"]\n",
    "print(random.choice(friends))\n",
    "random_index = random.randint(0, 4)\n",
    "print(friends[random_index])"
   ]
  },
  {
   "cell_type": "code",
   "execution_count": 5,
   "id": "1f00fe52-600a-4dae-82d8-65505ab67750",
   "metadata": {},
   "outputs": [
    {
     "name": "stdout",
     "output_type": "stream",
     "text": [
      "WELCOME TO ROCK PAPER SCISSORS\n"
     ]
    },
    {
     "name": "stdin",
     "output_type": "stream",
     "text": [
      "What do you choose? Type 0 for rock, 1 for paper, and 2 for scissors.\n",
      " 2\n"
     ]
    },
    {
     "name": "stdout",
     "output_type": "stream",
     "text": [
      "\n",
      "\n",
      "    -------\n",
      "---'\n",
      "       ----)----\n",
      "          ------)\n",
      "       ----------) \n",
      "       (----)\n",
      "---.__(---)\n",
      "\n",
      "computer_choice\n",
      "\n",
      "    -------\n",
      "---'   ----)\n",
      "      (-----)\n",
      "      (-----)\n",
      "      (----)\n",
      "---.__(---)\n",
      "\n",
      "You lose!\n"
     ]
    }
   ],
   "source": [
    "print(\"WELCOME TO ROCK PAPER SCISSORS\")\n",
    "import random\n",
    "rock = '''\n",
    "    -------\n",
    "---'   ----)\n",
    "      (-----)\n",
    "      (-----)\n",
    "      (----)\n",
    "---.__(---)\n",
    "'''\n",
    "paper = '''\n",
    "    -------\n",
    "---'   ----)----\n",
    "          ------)\n",
    "          -------)\n",
    "        -------)\n",
    "---.----------)\n",
    "'''\n",
    "scissors = '''\n",
    "\n",
    "    -------\n",
    "---'\n",
    "       ----)----\n",
    "          ------)\n",
    "       ----------) \n",
    "       (----)\n",
    "---.__(---)\n",
    "'''\n",
    "game_images = [rock, paper, scissors]\n",
    "user_choice = int(input(\"What do you choose? Type 0 for rock, 1 for paper, and 2 for scissors.\\n\"))\n",
    "if user_choice >= 0 and user_choice <= 2:\n",
    "    print(game_images[user_choice])\n",
    "computer_choice = random.randint(0,2)\n",
    "print(\"computer_choice\")\n",
    "print(game_images[computer_choice])\n",
    "if user_choice >=3 or user_choice <=0:\n",
    "    print(\"Invalid Number,You lose!\")\n",
    "elif user_choice == 0 and computer_choice == 2:\n",
    "    print(\"You wins!\")\n",
    "elif computer_choice == 0 and user_choice == 2:\n",
    "    print(\"You lose!\")\n",
    "elif computer_choice > user_choice:\n",
    "    print(\"You lose!\")\n",
    "elif user_choice > computer_choice:\n",
    "    print(\"You win!\")\n",
    "elif computer_choice == user_choice:\n",
    "    print(\"It is a draw\")\n",
    "\n"
   ]
  },
  {
   "cell_type": "code",
   "execution_count": null,
   "id": "8bb5bcec-0cca-4d21-91d0-230e42d201ec",
   "metadata": {},
   "outputs": [],
   "source": []
  }
 ],
 "metadata": {
  "kernelspec": {
   "display_name": "Python 3 (ipykernel)",
   "language": "python",
   "name": "python3"
  },
  "language_info": {
   "codemirror_mode": {
    "name": "ipython",
    "version": 3
   },
   "file_extension": ".py",
   "mimetype": "text/x-python",
   "name": "python",
   "nbconvert_exporter": "python",
   "pygments_lexer": "ipython3",
   "version": "3.13.3"
  }
 },
 "nbformat": 4,
 "nbformat_minor": 5
}
